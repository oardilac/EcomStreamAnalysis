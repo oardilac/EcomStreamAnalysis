{
 "cells": [
  {
   "cell_type": "code",
   "execution_count": null,
   "id": "307545c4-e99a-4335-8e68-76fb8940a644",
   "metadata": {},
   "outputs": [
    {
     "name": "stdout",
     "output_type": "stream",
     "text": [
      "Collecting pyspark\n",
      "  Downloading pyspark-3.4.1.tar.gz (310.8 MB)\n",
      "\u001b[2K     \u001b[90m━━━━━━━━━━━━━━━━━━━━━━━━━━━━━━━━━━━━━\u001b[0m \u001b[32m310.8/310.8 MB\u001b[0m \u001b[31m548.4 kB/s\u001b[0m eta \u001b[36m0:00:00\u001b[0m00:01\u001b[0m00:02\u001b[0m\n",
      "\u001b[?25h  Preparing metadata (setup.py) ... \u001b[?25ldone\n",
      "\u001b[?25hCollecting py4j==0.10.9.7 (from pyspark)\n",
      "  Downloading py4j-0.10.9.7-py2.py3-none-any.whl (200 kB)\n",
      "\u001b[2K     \u001b[90m━━━━━━━━━━━━━━━━━━━━━━━━━━━━━━━━━━━━━━━\u001b[0m \u001b[32m200.5/200.5 kB\u001b[0m \u001b[31m2.0 MB/s\u001b[0m eta \u001b[36m0:00:00\u001b[0ma \u001b[36m0:00:01\u001b[0m\n",
      "\u001b[?25hBuilding wheels for collected packages: pyspark\n",
      "  Building wheel for pyspark (setup.py) ... \u001b[?25l|"
     ]
    }
   ],
   "source": [
    "!pip install pyspark"
   ]
  },
  {
   "cell_type": "code",
   "execution_count": null,
   "id": "3add7813",
   "metadata": {},
   "outputs": [],
   "source": [
    "from pyspark.sql.functions import from_json, col, to_timestamp\n",
    "from pyspark.sql.types import StructType, StructField, StringType, IntegerType\n",
    "from pyspark.sql import SparkSession"
   ]
  },
  {
   "cell_type": "code",
   "execution_count": 2,
   "id": "baa665c4",
   "metadata": {},
   "outputs": [],
   "source": [
    "def write_to_cassandra(target_df, batch_id):\n",
    "    target_df.write \\\n",
    "        .format(\"org.apache.spark.sql.cassandra\") \\\n",
    "        .option(\"keyspace\", \"spark_db\") \\\n",
    "        .option(\"table\", \"customer_search\") \\\n",
    "        .mode(\"append\") \\\n",
    "        .save()\n",
    "    target_df.show()"
   ]
  },
  {
   "cell_type": "code",
   "execution_count": 3,
   "id": "5bb8b019",
   "metadata": {},
   "outputs": [],
   "source": [
    "spark = SparkSession \\\n",
    "        .builder \\\n",
    "        .master(\"local[3]\") \\\n",
    "        .appName(\"Stream Table Join Demo\") \\\n",
    "        .config(\"spark.streaming.stopGracefullyOnShutdown\", \"true\") \\\n",
    "        .config(\"spark.sql.shuffle.partitions\", 2) \\\n",
    "        .config(\"spark.cassandra.connection.host\", \"localhost\") \\\n",
    "        .config(\"spark.cassandra.connection.port\", \"9042\") \\\n",
    "        .config(\"spark.sql.extensions\", \"com.datastax.spark.connector.CassandraSparkExtensions\") \\\n",
    "        .config(\"spark.sql.catalog.lh\", \"com.datastax.spark.connector.datasource.CassandraCatalog\") \\\n",
    "        .getOrCreate()"
   ]
  },
  {
   "cell_type": "code",
   "execution_count": 4,
   "id": "d4ae92e7",
   "metadata": {},
   "outputs": [],
   "source": [
    "search_schema = StructType([\n",
    "        StructField(\"id\", StringType()),\n",
    "        StructField(\"product_searched\", StringType()),\n",
    "        StructField(\"customer_id\", StringType()),\n",
    "        StructField(\"location_id\", StringType()),\n",
    "        StructField(\"CreateDate\", StringType())\n",
    "    ])"
   ]
  },
  {
   "cell_type": "code",
   "execution_count": 5,
   "id": "1da74b1e",
   "metadata": {},
   "outputs": [],
   "source": [
    "kafka_source_df = spark \\\n",
    "        .readStream \\\n",
    "        .format(\"kafka\") \\\n",
    "        .option(\"kafka.bootstrap.servers\", \"localhost:9092\") \\\n",
    "        .option(\"subscribe\", \"product-search\") \\\n",
    "        .option(\"startingOffsets\", \"earliest\") \\\n",
    "        .option(\"failOnDataLoss\", False) \\\n",
    "        .load()"
   ]
  },
  {
   "cell_type": "code",
   "execution_count": 6,
   "id": "5f053f38",
   "metadata": {},
   "outputs": [],
   "source": [
    "value_df = kafka_source_df.select(from_json(col(\"value\").cast(\"string\"), search_schema).alias(\"value\"))"
   ]
  },
  {
   "cell_type": "code",
   "execution_count": 7,
   "id": "5b6b2e9d",
   "metadata": {},
   "outputs": [],
   "source": [
    "search_df = value_df.select(\"value.*\") \n",
    "#         .withColumn(\"CreateDate\", to_timestamp(col(\"CreateDate\"), \"yyyy-MM-dd HH:mm:ss\"))"
   ]
  },
  {
   "cell_type": "code",
   "execution_count": 8,
   "id": "d2bc8cdd",
   "metadata": {},
   "outputs": [
    {
     "name": "stdout",
     "output_type": "stream",
     "text": [
      "root\n",
      " |-- id: string (nullable = true)\n",
      " |-- product_searched: string (nullable = true)\n",
      " |-- customer_id: string (nullable = true)\n",
      " |-- location_id: string (nullable = true)\n",
      " |-- CreateDate: string (nullable = true)\n",
      "\n"
     ]
    }
   ],
   "source": [
    "search_df.printSchema()"
   ]
  },
  {
   "cell_type": "code",
   "execution_count": 9,
   "id": "b72cf8f3",
   "metadata": {},
   "outputs": [],
   "source": [
    "#add csv withlocation to do a join\n",
    "\n",
    "schema_csv = StructType([\n",
    "        StructField(\"location_id\", StringType()),\n",
    "        StructField(\"name\", StringType()),    \n",
    "        StructField(\"country_id\", StringType()),\n",
    "        StructField(\"country_code\", StringType()),\n",
    "        StructField(\"country_name\", StringType()),\n",
    "        StructField(\"state_code\", StringType()),\n",
    "        StructField(\"type\", StringType()),\n",
    "        StructField(\"latitude\", StringType()),\n",
    "        StructField(\"longitude\", StringType())    \n",
    "    ])"
   ]
  },
  {
   "cell_type": "code",
   "execution_count": 10,
   "id": "6ae8ef0c",
   "metadata": {},
   "outputs": [],
   "source": [
    "#schema_csv=(StructType().add(\"location_code\",StringType()).add(\"location_region\",StringType()).add(\"location_country\",StringType()))\n",
    "locations = spark.read.format(\"csv\")\\\n",
    "     .option(\"header\", True)\\\n",
    "     .schema(schema_csv)\\\n",
    "     .load(\"zLocations.csv\").alias(\"locations\")"
   ]
  },
  {
   "cell_type": "code",
   "execution_count": 11,
   "id": "13892dc2",
   "metadata": {},
   "outputs": [],
   "source": [
    "search_locations_df = search_df.join(locations, search_df[\"location_id\"]==locations[\"location_id\"], \"left\")"
   ]
  },
  {
   "cell_type": "code",
   "execution_count": 12,
   "id": "b5a231a8",
   "metadata": {},
   "outputs": [],
   "source": [
    "customer_df = spark.read \\\n",
    "        .format(\"org.apache.spark.sql.cassandra\") \\\n",
    "        .option(\"keyspace\", \"spark_db\") \\\n",
    "        .option(\"table\", \"customer\") \\\n",
    "        .load()"
   ]
  },
  {
   "cell_type": "code",
   "execution_count": 13,
   "id": "545db5fe",
   "metadata": {},
   "outputs": [],
   "source": [
    "join_expr = customer_df.customer_id == search_locations_df.customer_id\n",
    "join_type = \"inner\""
   ]
  },
  {
   "cell_type": "code",
   "execution_count": 14,
   "id": "18c2f487",
   "metadata": {},
   "outputs": [],
   "source": [
    "joined_df = customer_df.join(search_locations_df, join_expr, join_type) \\\n",
    "        .drop(customer_df.customer_id)"
   ]
  },
  {
   "cell_type": "code",
   "execution_count": 15,
   "id": "0c61a5bb",
   "metadata": {},
   "outputs": [
    {
     "name": "stdout",
     "output_type": "stream",
     "text": [
      "root\n",
      " |-- address: string (nullable = true)\n",
      " |-- age: string (nullable = true)\n",
      " |-- create_date: timestamp (nullable = true)\n",
      " |-- email: string (nullable = true)\n",
      " |-- user_name: string (nullable = true)\n",
      " |-- id: string (nullable = true)\n",
      " |-- product_searched: string (nullable = true)\n",
      " |-- customer_id: string (nullable = true)\n",
      " |-- location_id: string (nullable = true)\n",
      " |-- CreateDate: string (nullable = true)\n",
      " |-- location_id: string (nullable = true)\n",
      " |-- name: string (nullable = true)\n",
      " |-- country_id: string (nullable = true)\n",
      " |-- country_code: string (nullable = true)\n",
      " |-- country_name: string (nullable = true)\n",
      " |-- state_code: string (nullable = true)\n",
      " |-- type: string (nullable = true)\n",
      " |-- latitude: string (nullable = true)\n",
      " |-- longitude: string (nullable = true)\n",
      "\n"
     ]
    }
   ],
   "source": [
    "joined_df.printSchema()"
   ]
  },
  {
   "cell_type": "code",
   "execution_count": 16,
   "id": "60222bb6",
   "metadata": {},
   "outputs": [],
   "source": [
    "output_df = joined_df.select(col(\"id\"), col(\"customer_id\"), col(\"user_name\").alias(\"customer_name\"), col(\"product_searched\"), \n",
    "                             col(\"CreateDate\").alias(\"search_date\"), col(\"country_name\"),col(\"name\").alias(\"state\"))\n",
    "#                             .withColumn(\"idNum\", col(\"customer_id\").cast(IntegerType())) \\\n",
    "#                             .withColumn(\"id\",    col(\"id\").cast(IntegerType()))"
   ]
  },
  {
   "cell_type": "code",
   "execution_count": 17,
   "id": "c984509c",
   "metadata": {},
   "outputs": [],
   "source": [
    "kafka_target_df = output_df.selectExpr(\"id as key\",\n",
    "                                                 \"\"\"to_json(named_struct(\n",
    "                                                 'id', id,\n",
    "                                                 'customer_id', customer_id,\n",
    "                                                 'customer_name', customer_name,\n",
    "                                                 'product_searched', product_searched,\n",
    "                                                 'search_date', search_date,\n",
    "                                                 'country_name', country_name,\n",
    "                                                 'state', state\n",
    "                                                 )) as value\"\"\")"
   ]
  },
  {
   "cell_type": "code",
   "execution_count": 18,
   "id": "acc4a61b",
   "metadata": {},
   "outputs": [],
   "source": [
    "notification_writer_query = kafka_target_df \\\n",
    "        .writeStream \\\n",
    "        .queryName(\"Product Customer Writer\") \\\n",
    "        .format(\"kafka\") \\\n",
    "        .option(\"kafka.bootstrap.servers\", \"localhost:9092\") \\\n",
    "        .option(\"topic\", \"product-customer-qty\") \\\n",
    "        .outputMode(\"append\") \\\n",
    "        .option(\"checkpointLocation\", \"./checkpoints/joins-proj/\") \\\n",
    "        .start()"
   ]
  },
  {
   "cell_type": "code",
   "execution_count": null,
   "id": "c7e12033",
   "metadata": {},
   "outputs": [],
   "source": [
    "notification_writer_query.awaitTermination()"
   ]
  }
 ],
 "metadata": {
  "kernelspec": {
   "display_name": "Python 3 (ipykernel)",
   "language": "python",
   "name": "python3"
  },
  "language_info": {
   "codemirror_mode": {
    "name": "ipython",
    "version": 3
   },
   "file_extension": ".py",
   "mimetype": "text/x-python",
   "name": "python",
   "nbconvert_exporter": "python",
   "pygments_lexer": "ipython3",
   "version": "3.11.4"
  }
 },
 "nbformat": 4,
 "nbformat_minor": 5
}
